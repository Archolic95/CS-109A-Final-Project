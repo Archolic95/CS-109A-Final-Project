{
 "cells": [
  {
   "cell_type": "code",
   "execution_count": 162,
   "metadata": {},
   "outputs": [],
   "source": [
    "import numpy as np\n",
    "import pandas as pd\n",
    "from scipy.stats import ttest_ind\n",
    "pd.set_option('display.max_columns', 25)\n",
    "\n",
    "from sklearn.linear_model import LinearRegression\n",
    "from sklearn.linear_model import LogisticRegression\n",
    "from sklearn.linear_model import LogisticRegressionCV\n",
    "from sklearn.linear_model import LassoCV\n",
    "\n",
    "from sklearn.neighbors import KNeighborsClassifier\n",
    "from sklearn.model_selection import cross_val_score\n",
    "from sklearn.metrics import accuracy_score\n",
    "from sklearn.model_selection import KFold\n",
    "from sklearn.preprocessing import MinMaxScaler\n",
    "from sklearn.model_selection import train_test_split\n",
    "from sklearn.decomposition import PCA\n",
    "from sklearn import metrics\n",
    "from scipy import interpolate\n",
    "\n",
    "import matplotlib\n",
    "import matplotlib.pyplot as plt\n",
    "%matplotlib inline\n",
    "\n",
    "import statsmodels.api as sm\n",
    "from statsmodels.api import OLS\n",
    "\n",
    "import seaborn as sns"
   ]
  },
  {
   "cell_type": "markdown",
   "metadata": {},
   "source": [
    "**Crime Incident Report data: data cleaning and EDA**"
   ]
  },
  {
   "cell_type": "code",
   "execution_count": 3,
   "metadata": {},
   "outputs": [
    {
     "name": "stderr",
     "output_type": "stream",
     "text": [
      "/anaconda3/lib/python3.7/site-packages/IPython/core/interactiveshell.py:3020: DtypeWarning: Columns (6) have mixed types. Specify dtype option on import or set low_memory=False.\n",
      "  interactivity=interactivity, compiler=compiler, result=result)\n"
     ]
    }
   ],
   "source": [
    "crime = pd.read_csv('data/crime_incident_report.csv')"
   ]
  },
  {
   "cell_type": "code",
   "execution_count": 5,
   "metadata": {},
   "outputs": [
    {
     "name": "stdout",
     "output_type": "stream",
     "text": [
      "<class 'pandas.core.frame.DataFrame'>\n",
      "RangeIndex: 426820 entries, 0 to 426819\n",
      "Data columns (total 17 columns):\n",
      "INCIDENT_NUMBER        426820 non-null object\n",
      "OFFENSE_CODE           426820 non-null int64\n",
      "OFFENSE_CODE_GROUP     426820 non-null object\n",
      "OFFENSE_DESCRIPTION    426820 non-null object\n",
      "DISTRICT               424650 non-null object\n",
      "REPORTING_AREA         426820 non-null object\n",
      "SHOOTING               1747 non-null object\n",
      "OCCURRED_ON_DATE       426820 non-null object\n",
      "YEAR                   426820 non-null int64\n",
      "MONTH                  426820 non-null int64\n",
      "DAY_OF_WEEK            426820 non-null object\n",
      "HOUR                   426820 non-null int64\n",
      "UCR_PART               426710 non-null object\n",
      "STREET                 414430 non-null object\n",
      "Lat                    399617 non-null float64\n",
      "Long                   399617 non-null float64\n",
      "Location               426820 non-null object\n",
      "dtypes: float64(2), int64(4), object(11)\n",
      "memory usage: 55.4+ MB\n"
     ]
    }
   ],
   "source": [
    "crime.info()"
   ]
  },
  {
   "cell_type": "markdown",
   "metadata": {},
   "source": [
    "**Imputation**\n",
    "\n",
    "For the latitude and longitude coordinate, we are going to impute the missing values by using the **average** values of the incidences which has the same **STREET** (hoping that there is some other incidents reported at the same street with non-null latitude/longitude coordinate). If the STREET data is also missing OR if there's no other observations in the dataset belonging to the same 'STREET' with non-null latitude and longitude, we're just going to drop the rows as there is no other appropriate info/fields that we can use to identify the location.\n"
   ]
  },
  {
   "cell_type": "code",
   "execution_count": 61,
   "metadata": {},
   "outputs": [
    {
     "name": "stderr",
     "output_type": "stream",
     "text": [
      "/anaconda3/lib/python3.7/site-packages/pandas/core/indexing.py:189: SettingWithCopyWarning: \n",
      "A value is trying to be set on a copy of a slice from a DataFrame\n",
      "\n",
      "See the caveats in the documentation: http://pandas.pydata.org/pandas-docs/stable/indexing.html#indexing-view-versus-copy\n",
      "  self._setitem_with_indexer(indexer, value)\n"
     ]
    }
   ],
   "source": [
    "crime['Lat_imp'] = crime['Lat'].copy()\n",
    "crime['Long_imp'] = crime['Long'].copy()\n",
    "\n",
    "for i in range(len(crime)):    \n",
    "    if np.isnan(crime['Lat'].loc[i]):\n",
    "        st = crime['STREET'].loc[i]\n",
    "        crime['Lat_imp'].loc[i] = np.mean(crime[crime['STREET']==st]['Lat'])\n",
    "        crime['Long_imp'].loc[i] = np.mean(crime[crime['STREET']==st]['Long'])\n",
    "    "
   ]
  },
  {
   "cell_type": "code",
   "execution_count": 82,
   "metadata": {},
   "outputs": [],
   "source": [
    "crime = crime[crime['Lat_imp'].isna() == False]"
   ]
  },
  {
   "cell_type": "code",
   "execution_count": 85,
   "metadata": {},
   "outputs": [
    {
     "data": {
      "text/plain": [
       "Lat_imp     0\n",
       "Long_imp    0\n",
       "dtype: int64"
      ]
     },
     "execution_count": 85,
     "metadata": {},
     "output_type": "execute_result"
    }
   ],
   "source": [
    "crime[['Lat_imp', 'Long_imp']].isna().sum()"
   ]
  },
  {
   "cell_type": "markdown",
   "metadata": {},
   "source": [
    "**Setting multi-class prediction column**\n",
    "\n",
    "We're going to create a column for the crime type for the chosen 5 types:\n",
    "* 0 indicates *larceny*\n",
    "* 1 indicates *Burglary* (including *B&E* incidents)\n",
    "* 2 indicates *Auto Theft*\n",
    "* 3 indicates *M/V Accidents*\n",
    "* 4 indicates *drugs*\n",
    "\n",
    "Note that these are the umbrella categories, which includes all the subtypes below it (e.g. *M/V ACCIDENT* includes all instances of motor/vehicle accidents, such as *M/V ACCIDENT - PERSONAL INJURY, 'M/V ACCIDENT - PROPERTY  DAMAGE', 'M/V ACCIDENT - OTHER*, etc.)\n",
    "\n",
    "We decided to just focus on these 5 crime types, and drop all other incidents from the dataset."
   ]
  },
  {
   "cell_type": "code",
   "execution_count": 106,
   "metadata": {},
   "outputs": [],
   "source": [
    "crime_type = np.zeros(len(crime))\n",
    "for ind, offense in enumerate(crime['OFFENSE_DESCRIPTION']):\n",
    "    if 'LARCENY' in offense:\n",
    "        crime_type[ind] = 0\n",
    "    elif ('B&E' in offense) or ('BURGLARY' in offense):\n",
    "#       or  ('LARCENY' in offense)\n",
    "        crime_type[ind] = 1\n",
    "    elif 'AUTO THEFT' in offense:\n",
    "        crime_type[ind] = 2\n",
    "    elif 'M/V ACCIDENT' in offense:\n",
    "        crime_type[ind] = 3\n",
    "    elif 'DRUGS' in offense:\n",
    "        crime_type[ind] = 4\n",
    "    else:\n",
    "        crime_type[ind] = 5\n",
    "\n",
    "crime['type'] = crime_type\n"
   ]
  },
  {
   "cell_type": "code",
   "execution_count": 107,
   "metadata": {},
   "outputs": [],
   "source": [
    "crime_filtered = crime[crime['type']<5].copy()\n",
    "crime_filtered = crime_filtered.drop(['OFFENSE_CODE', 'OFFENSE_CODE_GROUP', 'OFFENSE_DESCRIPTION', 'DISTRICT', 'REPORTING_AREA', 'SHOOTING','UCR_PART', 'STREET', 'Lat', 'Long','Location'], axis=1)"
   ]
  },
  {
   "cell_type": "markdown",
   "metadata": {},
   "source": [
    "We're dropping the column *'SHOOTING'* because we don't have any other information that can be used to make predictions about this field to impute the missing values, and using the median/average value would not make sense. \n",
    "\n",
    "We're also dropping *'REPORTING_AREA', 'UCR_PART'* and *'DISTRICT'* because these fields does not really tell much (or have strong correlation) with the prediction for type of crime."
   ]
  },
  {
   "cell_type": "markdown",
   "metadata": {},
   "source": [
    "**Remove duplicates**\n",
    "\n",
    "We may have duplicated rows because the same incidents might below to multiple types *(or subtypes)* of crime. \n",
    "\n",
    "If the types of crime are different (e.g. an incident which involve both drugs and M/V accidents), then we're going to keep that as 2 separate rows. \n",
    "\n",
    "However, if the incident has the same type (e.g. M/V accident) but involves more than 1 *subtypes* (e.g. the M/V accident caused both *property damage* AND *personal injury*), these rows will have the same numerical 'type' that we assigned previously. Thus, we're going to drop one of these rows to remove any duplicates in the filtered dataset."
   ]
  },
  {
   "cell_type": "code",
   "execution_count": 108,
   "metadata": {},
   "outputs": [],
   "source": [
    "crime_filtered = crime_filtered.drop_duplicates(subset = ['INCIDENT_NUMBER', 'type'])"
   ]
  },
  {
   "cell_type": "code",
   "execution_count": 109,
   "metadata": {},
   "outputs": [
    {
     "name": "stdout",
     "output_type": "stream",
     "text": [
      "<class 'pandas.core.frame.DataFrame'>\n",
      "Int64Index: 101347 entries, 3 to 426814\n",
      "Data columns (total 9 columns):\n",
      "INCIDENT_NUMBER     101347 non-null object\n",
      "OCCURRED_ON_DATE    101347 non-null object\n",
      "YEAR                101347 non-null int64\n",
      "MONTH               101347 non-null int64\n",
      "DAY_OF_WEEK         101347 non-null object\n",
      "HOUR                101347 non-null int64\n",
      "type                101347 non-null float64\n",
      "Lat_imp             101347 non-null float64\n",
      "Long_imp            101347 non-null float64\n",
      "dtypes: float64(3), int64(3), object(3)\n",
      "memory usage: 7.7+ MB\n"
     ]
    }
   ],
   "source": [
    "crime_filtered.info()"
   ]
  },
  {
   "cell_type": "code",
   "execution_count": 110,
   "metadata": {},
   "outputs": [
    {
     "data": {
      "text/plain": [
       "0.0    47300\n",
       "3.0    23270\n",
       "4.0    15942\n",
       "1.0     8920\n",
       "2.0     5915\n",
       "Name: type, dtype: int64"
      ]
     },
     "execution_count": 110,
     "metadata": {},
     "output_type": "execute_result"
    }
   ],
   "source": [
    "crime_filtered['type'].value_counts()"
   ]
  },
  {
   "cell_type": "markdown",
   "metadata": {},
   "source": [
    "**Segment the map based on zipcode**\n",
    "\n",
    "Using the raw data that map the latitude and longitude coordinate from https://gist.github.com/erichurst/7882666#file-us-zip-codes-from-2013-government-data, we're going to estimate the zipcode based on the shortest euclidian distance of the incident's coordinates to the center of each zipcode location in the raw data.\n",
    "\n",
    "Note that visually, the zipcode might looked weird because it may contain less than 5 digits. This is because the field is intepreted as numeric values and hence the '0' in front will disappear. However, for our purpose in building a model, this is not going to be a problem as they still encode the same information as they are with the extra '0' digit in front."
   ]
  },
  {
   "cell_type": "code",
   "execution_count": 111,
   "metadata": {},
   "outputs": [
    {
     "data": {
      "text/html": [
       "<div>\n",
       "<style scoped>\n",
       "    .dataframe tbody tr th:only-of-type {\n",
       "        vertical-align: middle;\n",
       "    }\n",
       "\n",
       "    .dataframe tbody tr th {\n",
       "        vertical-align: top;\n",
       "    }\n",
       "\n",
       "    .dataframe thead th {\n",
       "        text-align: right;\n",
       "    }\n",
       "</style>\n",
       "<table border=\"1\" class=\"dataframe\">\n",
       "  <thead>\n",
       "    <tr style=\"text-align: right;\">\n",
       "      <th></th>\n",
       "      <th>ZIP</th>\n",
       "      <th>LAT</th>\n",
       "      <th>LNG</th>\n",
       "    </tr>\n",
       "  </thead>\n",
       "  <tbody>\n",
       "    <tr>\n",
       "      <th>0</th>\n",
       "      <td>601</td>\n",
       "      <td>18.180555</td>\n",
       "      <td>-66.749961</td>\n",
       "    </tr>\n",
       "    <tr>\n",
       "      <th>1</th>\n",
       "      <td>602</td>\n",
       "      <td>18.361945</td>\n",
       "      <td>-67.175597</td>\n",
       "    </tr>\n",
       "    <tr>\n",
       "      <th>2</th>\n",
       "      <td>603</td>\n",
       "      <td>18.455183</td>\n",
       "      <td>-67.119887</td>\n",
       "    </tr>\n",
       "    <tr>\n",
       "      <th>3</th>\n",
       "      <td>606</td>\n",
       "      <td>18.158345</td>\n",
       "      <td>-66.932911</td>\n",
       "    </tr>\n",
       "    <tr>\n",
       "      <th>4</th>\n",
       "      <td>610</td>\n",
       "      <td>18.295366</td>\n",
       "      <td>-67.125135</td>\n",
       "    </tr>\n",
       "  </tbody>\n",
       "</table>\n",
       "</div>"
      ],
      "text/plain": [
       "   ZIP        LAT        LNG\n",
       "0  601  18.180555 -66.749961\n",
       "1  602  18.361945 -67.175597\n",
       "2  603  18.455183 -67.119887\n",
       "3  606  18.158345 -66.932911\n",
       "4  610  18.295366 -67.125135"
      ]
     },
     "execution_count": 111,
     "metadata": {},
     "output_type": "execute_result"
    }
   ],
   "source": [
    "zipcode = pd.read_csv('data/zipcode.csv')\n",
    "zipcode.head()"
   ]
  },
  {
   "cell_type": "code",
   "execution_count": 119,
   "metadata": {},
   "outputs": [],
   "source": [
    "# this is like using knn (with n_neighbor=1), where the prediction y-values is the zipcode ('ZIP') and the predictors are the latitude and longitude\n",
    "X = zipcode[['LAT', 'LNG']]\n",
    "y = zipcode['ZIP']\n",
    "knn1 = KNeighborsClassifier(n_neighbors=1).fit(X,y)"
   ]
  },
  {
   "cell_type": "code",
   "execution_count": 139,
   "metadata": {},
   "outputs": [],
   "source": [
    "crime_filtered['zip_predicted'] = knn1.predict(crime_filtered[['Lat_imp','Long_imp']])"
   ]
  },
  {
   "cell_type": "code",
   "execution_count": 140,
   "metadata": {},
   "outputs": [
    {
     "data": {
      "text/html": [
       "<div>\n",
       "<style scoped>\n",
       "    .dataframe tbody tr th:only-of-type {\n",
       "        vertical-align: middle;\n",
       "    }\n",
       "\n",
       "    .dataframe tbody tr th {\n",
       "        vertical-align: top;\n",
       "    }\n",
       "\n",
       "    .dataframe thead th {\n",
       "        text-align: right;\n",
       "    }\n",
       "</style>\n",
       "<table border=\"1\" class=\"dataframe\">\n",
       "  <thead>\n",
       "    <tr style=\"text-align: right;\">\n",
       "      <th></th>\n",
       "      <th>INCIDENT_NUMBER</th>\n",
       "      <th>OCCURRED_ON_DATE</th>\n",
       "      <th>YEAR</th>\n",
       "      <th>MONTH</th>\n",
       "      <th>DAY_OF_WEEK</th>\n",
       "      <th>HOUR</th>\n",
       "      <th>type</th>\n",
       "      <th>Lat_imp</th>\n",
       "      <th>Long_imp</th>\n",
       "      <th>zip_predicted</th>\n",
       "    </tr>\n",
       "  </thead>\n",
       "  <tbody>\n",
       "    <tr>\n",
       "      <th>3</th>\n",
       "      <td>I192078642</td>\n",
       "      <td>2019-09-29 05:50:00</td>\n",
       "      <td>2019</td>\n",
       "      <td>9</td>\n",
       "      <td>Sunday</td>\n",
       "      <td>5</td>\n",
       "      <td>3.0</td>\n",
       "      <td>42.332419</td>\n",
       "      <td>-71.075013</td>\n",
       "      <td>2118</td>\n",
       "    </tr>\n",
       "    <tr>\n",
       "      <th>8</th>\n",
       "      <td>I192078636</td>\n",
       "      <td>2019-09-29 04:40:00</td>\n",
       "      <td>2019</td>\n",
       "      <td>9</td>\n",
       "      <td>Sunday</td>\n",
       "      <td>4</td>\n",
       "      <td>1.0</td>\n",
       "      <td>42.314630</td>\n",
       "      <td>-71.092615</td>\n",
       "      <td>2121</td>\n",
       "    </tr>\n",
       "    <tr>\n",
       "      <th>14</th>\n",
       "      <td>I192078623</td>\n",
       "      <td>2019-09-28 22:40:00</td>\n",
       "      <td>2019</td>\n",
       "      <td>9</td>\n",
       "      <td>Saturday</td>\n",
       "      <td>22</td>\n",
       "      <td>3.0</td>\n",
       "      <td>42.286065</td>\n",
       "      <td>-71.070010</td>\n",
       "      <td>2124</td>\n",
       "    </tr>\n",
       "    <tr>\n",
       "      <th>15</th>\n",
       "      <td>I192078622</td>\n",
       "      <td>2019-09-29 03:04:00</td>\n",
       "      <td>2019</td>\n",
       "      <td>9</td>\n",
       "      <td>Sunday</td>\n",
       "      <td>3</td>\n",
       "      <td>0.0</td>\n",
       "      <td>42.340070</td>\n",
       "      <td>-71.052794</td>\n",
       "      <td>2111</td>\n",
       "    </tr>\n",
       "    <tr>\n",
       "      <th>18</th>\n",
       "      <td>I192078615</td>\n",
       "      <td>2019-09-29 02:25:00</td>\n",
       "      <td>2019</td>\n",
       "      <td>9</td>\n",
       "      <td>Sunday</td>\n",
       "      <td>2</td>\n",
       "      <td>3.0</td>\n",
       "      <td>42.382589</td>\n",
       "      <td>-71.033420</td>\n",
       "      <td>2150</td>\n",
       "    </tr>\n",
       "  </tbody>\n",
       "</table>\n",
       "</div>"
      ],
      "text/plain": [
       "   INCIDENT_NUMBER     OCCURRED_ON_DATE  YEAR  MONTH DAY_OF_WEEK  HOUR  type    Lat_imp   Long_imp  zip_predicted\n",
       "3       I192078642  2019-09-29 05:50:00  2019      9      Sunday     5   3.0  42.332419 -71.075013           2118\n",
       "8       I192078636  2019-09-29 04:40:00  2019      9      Sunday     4   1.0  42.314630 -71.092615           2121\n",
       "14      I192078623  2019-09-28 22:40:00  2019      9    Saturday    22   3.0  42.286065 -71.070010           2124\n",
       "15      I192078622  2019-09-29 03:04:00  2019      9      Sunday     3   0.0  42.340070 -71.052794           2111\n",
       "18      I192078615  2019-09-29 02:25:00  2019      9      Sunday     2   3.0  42.382589 -71.033420           2150"
      ]
     },
     "execution_count": 140,
     "metadata": {},
     "output_type": "execute_result"
    }
   ],
   "source": [
    "crime_filtered.head()"
   ]
  },
  {
   "cell_type": "markdown",
   "metadata": {},
   "source": [
    "**Zillow datasets: Median home value and rental price per sq ft**"
   ]
  },
  {
   "cell_type": "code",
   "execution_count": 158,
   "metadata": {},
   "outputs": [],
   "source": [
    "home = pd.read_csv('data/Zillow_MedianValuePerSqft_AllHomes.csv')\n",
    "rental = pd.read_csv('data/Zillow_MedianZriPerSqft_AllHomes.csv')\n",
    "\n",
    "# filter the data to those belonging for Boston/Cambridge MA only\n",
    "home_Boston = pd.concat([home[home['City']=='Boston'], home[home['City']=='Cambridge']])\n",
    "rental_Boston = pd.concat([rental[rental['City']=='Boston'], rental[rental['City']=='Cambridge']])"
   ]
  },
  {
   "cell_type": "code",
   "execution_count": 160,
   "metadata": {},
   "outputs": [],
   "source": [
    "# print(home_Boston['City'].value_counts())\n",
    "# print(rental_Boston['City'].value_counts())"
   ]
  },
  {
   "cell_type": "code",
   "execution_count": 177,
   "metadata": {},
   "outputs": [
    {
     "data": {
      "text/html": [
       "<div>\n",
       "<style scoped>\n",
       "    .dataframe tbody tr th:only-of-type {\n",
       "        vertical-align: middle;\n",
       "    }\n",
       "\n",
       "    .dataframe tbody tr th {\n",
       "        vertical-align: top;\n",
       "    }\n",
       "\n",
       "    .dataframe thead th {\n",
       "        text-align: right;\n",
       "    }\n",
       "</style>\n",
       "<table border=\"1\" class=\"dataframe\">\n",
       "  <thead>\n",
       "    <tr style=\"text-align: right;\">\n",
       "      <th></th>\n",
       "      <th>RegionID</th>\n",
       "      <th>RegionName</th>\n",
       "      <th>City</th>\n",
       "      <th>State</th>\n",
       "      <th>Metro</th>\n",
       "      <th>CountyName</th>\n",
       "      <th>SizeRank</th>\n",
       "      <th>2010-11</th>\n",
       "      <th>2010-12</th>\n",
       "      <th>2011-01</th>\n",
       "      <th>2011-02</th>\n",
       "      <th>2011-03</th>\n",
       "      <th>...</th>\n",
       "      <th>2018-07</th>\n",
       "      <th>2018-08</th>\n",
       "      <th>2018-09</th>\n",
       "      <th>2018-10</th>\n",
       "      <th>2018-11</th>\n",
       "      <th>2018-12</th>\n",
       "      <th>2019-01</th>\n",
       "      <th>2019-02</th>\n",
       "      <th>2019-03</th>\n",
       "      <th>2019-04</th>\n",
       "      <th>2019-05</th>\n",
       "      <th>2019-06</th>\n",
       "    </tr>\n",
       "  </thead>\n",
       "  <tbody>\n",
       "    <tr>\n",
       "      <th>579</th>\n",
       "      <td>58649</td>\n",
       "      <td>2135</td>\n",
       "      <td>Boston</td>\n",
       "      <td>MA</td>\n",
       "      <td>Boston-Cambridge-Newton</td>\n",
       "      <td>Suffolk County</td>\n",
       "      <td>580</td>\n",
       "      <td>2.396</td>\n",
       "      <td>2.370</td>\n",
       "      <td>2.346</td>\n",
       "      <td>2.324</td>\n",
       "      <td>2.290</td>\n",
       "      <td>...</td>\n",
       "      <td>2.808</td>\n",
       "      <td>2.812</td>\n",
       "      <td>2.814</td>\n",
       "      <td>2.816</td>\n",
       "      <td>2.818</td>\n",
       "      <td>2.818</td>\n",
       "      <td>2.816</td>\n",
       "      <td>2.820</td>\n",
       "      <td>2.828</td>\n",
       "      <td>2.850</td>\n",
       "      <td>2.884</td>\n",
       "      <td>2.920</td>\n",
       "    </tr>\n",
       "    <tr>\n",
       "      <th>1235</th>\n",
       "      <td>58638</td>\n",
       "      <td>2124</td>\n",
       "      <td>Boston</td>\n",
       "      <td>MA</td>\n",
       "      <td>Boston-Cambridge-Newton</td>\n",
       "      <td>Suffolk County</td>\n",
       "      <td>1236</td>\n",
       "      <td>1.022</td>\n",
       "      <td>1.012</td>\n",
       "      <td>1.020</td>\n",
       "      <td>1.036</td>\n",
       "      <td>1.068</td>\n",
       "      <td>...</td>\n",
       "      <td>1.710</td>\n",
       "      <td>1.712</td>\n",
       "      <td>1.712</td>\n",
       "      <td>1.714</td>\n",
       "      <td>1.716</td>\n",
       "      <td>1.722</td>\n",
       "      <td>1.726</td>\n",
       "      <td>1.732</td>\n",
       "      <td>1.740</td>\n",
       "      <td>1.750</td>\n",
       "      <td>1.762</td>\n",
       "      <td>1.780</td>\n",
       "    </tr>\n",
       "    <tr>\n",
       "      <th>1559</th>\n",
       "      <td>58641</td>\n",
       "      <td>2127</td>\n",
       "      <td>Boston</td>\n",
       "      <td>MA</td>\n",
       "      <td>Boston-Cambridge-Newton</td>\n",
       "      <td>Suffolk County</td>\n",
       "      <td>1560</td>\n",
       "      <td>1.676</td>\n",
       "      <td>1.670</td>\n",
       "      <td>1.710</td>\n",
       "      <td>1.788</td>\n",
       "      <td>1.894</td>\n",
       "      <td>...</td>\n",
       "      <td>2.778</td>\n",
       "      <td>2.778</td>\n",
       "      <td>2.778</td>\n",
       "      <td>2.782</td>\n",
       "      <td>2.806</td>\n",
       "      <td>2.836</td>\n",
       "      <td>2.862</td>\n",
       "      <td>2.876</td>\n",
       "      <td>2.892</td>\n",
       "      <td>2.910</td>\n",
       "      <td>2.948</td>\n",
       "      <td>2.988</td>\n",
       "    </tr>\n",
       "    <tr>\n",
       "      <th>1676</th>\n",
       "      <td>58644</td>\n",
       "      <td>2130</td>\n",
       "      <td>Boston</td>\n",
       "      <td>MA</td>\n",
       "      <td>Boston-Cambridge-Newton</td>\n",
       "      <td>Suffolk County</td>\n",
       "      <td>1677</td>\n",
       "      <td>1.332</td>\n",
       "      <td>1.326</td>\n",
       "      <td>1.350</td>\n",
       "      <td>1.384</td>\n",
       "      <td>1.420</td>\n",
       "      <td>...</td>\n",
       "      <td>2.258</td>\n",
       "      <td>2.260</td>\n",
       "      <td>2.262</td>\n",
       "      <td>2.266</td>\n",
       "      <td>2.262</td>\n",
       "      <td>2.258</td>\n",
       "      <td>2.250</td>\n",
       "      <td>2.256</td>\n",
       "      <td>2.262</td>\n",
       "      <td>2.272</td>\n",
       "      <td>2.312</td>\n",
       "      <td>2.360</td>\n",
       "    </tr>\n",
       "    <tr>\n",
       "      <th>1859</th>\n",
       "      <td>58642</td>\n",
       "      <td>2128</td>\n",
       "      <td>Boston</td>\n",
       "      <td>MA</td>\n",
       "      <td>Boston-Cambridge-Newton</td>\n",
       "      <td>Suffolk County</td>\n",
       "      <td>1860</td>\n",
       "      <td>1.670</td>\n",
       "      <td>1.628</td>\n",
       "      <td>1.600</td>\n",
       "      <td>1.576</td>\n",
       "      <td>1.566</td>\n",
       "      <td>...</td>\n",
       "      <td>2.346</td>\n",
       "      <td>2.350</td>\n",
       "      <td>2.352</td>\n",
       "      <td>2.350</td>\n",
       "      <td>2.342</td>\n",
       "      <td>2.330</td>\n",
       "      <td>2.322</td>\n",
       "      <td>2.324</td>\n",
       "      <td>2.336</td>\n",
       "      <td>2.350</td>\n",
       "      <td>2.406</td>\n",
       "      <td>2.468</td>\n",
       "    </tr>\n",
       "  </tbody>\n",
       "</table>\n",
       "<p>5 rows × 111 columns</p>\n",
       "</div>"
      ],
      "text/plain": [
       "      RegionID  RegionName    City State                    Metro      CountyName  SizeRank  2010-11  2010-12  2011-01  2011-02  2011-03   ...     2018-07  2018-08  2018-09  2018-10  2018-11  2018-12  2019-01  2019-02  2019-03  2019-04  2019-05  2019-06\n",
       "579      58649        2135  Boston    MA  Boston-Cambridge-Newton  Suffolk County       580    2.396    2.370    2.346    2.324    2.290   ...       2.808    2.812    2.814    2.816    2.818    2.818    2.816    2.820    2.828    2.850    2.884    2.920\n",
       "1235     58638        2124  Boston    MA  Boston-Cambridge-Newton  Suffolk County      1236    1.022    1.012    1.020    1.036    1.068   ...       1.710    1.712    1.712    1.714    1.716    1.722    1.726    1.732    1.740    1.750    1.762    1.780\n",
       "1559     58641        2127  Boston    MA  Boston-Cambridge-Newton  Suffolk County      1560    1.676    1.670    1.710    1.788    1.894   ...       2.778    2.778    2.778    2.782    2.806    2.836    2.862    2.876    2.892    2.910    2.948    2.988\n",
       "1676     58644        2130  Boston    MA  Boston-Cambridge-Newton  Suffolk County      1677    1.332    1.326    1.350    1.384    1.420   ...       2.258    2.260    2.262    2.266    2.262    2.258    2.250    2.256    2.262    2.272    2.312    2.360\n",
       "1859     58642        2128  Boston    MA  Boston-Cambridge-Newton  Suffolk County      1860    1.670    1.628    1.600    1.576    1.566   ...       2.346    2.350    2.352    2.350    2.342    2.330    2.322    2.324    2.336    2.350    2.406    2.468\n",
       "\n",
       "[5 rows x 111 columns]"
      ]
     },
     "execution_count": 177,
     "metadata": {},
     "output_type": "execute_result"
    }
   ],
   "source": [
    "rental_Boston.head() "
   ]
  },
  {
   "cell_type": "markdown",
   "metadata": {},
   "source": [
    "For the home and rental value, we're going to match the data based on the zipcode. If the zipcode of the incident does not match with any zipzode in the zillow datasets ('home_Boston' and 'rental_Boston'), we're just going to use the average home/rental value of the 2 closest zipzode as an estimate.\n",
    "\n"
   ]
  },
  {
   "cell_type": "code",
   "execution_count": 184,
   "metadata": {},
   "outputs": [],
   "source": [
    "#making the model for interpolation: home value\n",
    "\n",
    "X_int = home_Boston['RegionName'] #the field 'RegionName' means the zipzode of the area\n",
    "y_int = home_Boston['2019-09'] # the field '2019-09' means the median home value per sqft, assessed in Sept '19 (latest data)\n",
    "\n",
    "# extrapolation: for the areas with zipzode not within the range of the zipzodes in the zillow datasets, we pick the \n",
    "# median home value for the closest area/zipcode as the estimate\n",
    "# that is, for the zipzode (when encoded as integer) lower than smallest zipcode from the zillow datasets, \n",
    "# we pick the home value associated with the area with the smallest zipzode\n",
    "# and similarly for higher value zipcode\n",
    "min_zipcode = home_Boston[home_Boston['RegionName']==min(home_Boston['RegionName'])]['2019-09']\n",
    "max_zipcode = home_Boston[home_Boston['RegionName']==max(home_Boston['RegionName'])]['2019-09']\n",
    "\n",
    "home_interpolate = interpolate.interp1d(X_int, y_int, kind='linear', bounds_error=False, fill_value=(min_zipcode, max_zipcode))\n",
    "\n",
    "crime_filtered['home_value'] = home_interpolate(crime_filtered['zip_predicted'])"
   ]
  },
  {
   "cell_type": "code",
   "execution_count": 186,
   "metadata": {},
   "outputs": [],
   "source": [
    "#making the model for interpolation: rental price\n",
    "\n",
    "X_int = rental_Boston['RegionName'] #the field 'RegionName' means the zipzode of the area\n",
    "y_int = rental_Boston['2019-06'] # the field '2019-06' means the median rental price per sqft, assessed in June '19 (latest data)\n",
    "\n",
    "# extrapolation: for the areas with zipzode not within the range of the zipzodes in the zillow datasets, we pick the \n",
    "# rent price at the closest area/zipcode as the estimate. \n",
    "# i.e. for the zipzode (when encoded as integer) lower than smallest zipcode from the zillow datasets, \n",
    "# we pick the rent price associated with the area with the smallest zipzode\n",
    "# and similarly for higher value zipcode\n",
    "min_zipcode = rental_Boston[rental_Boston['RegionName']==min(rental_Boston['RegionName'])]['2019-06']\n",
    "max_zipcode = rental_Boston[rental_Boston['RegionName']==max(rental_Boston['RegionName'])]['2019-06']\n",
    "\n",
    "rent_interpolate = interpolate.interp1d(X_int, y_int, kind='linear', bounds_error=False, fill_value=(min_zipcode, max_zipcode))\n",
    "\n",
    "crime_filtered['rent_price'] = rent_interpolate(crime_filtered['zip_predicted'])"
   ]
  },
  {
   "cell_type": "code",
   "execution_count": 188,
   "metadata": {},
   "outputs": [
    {
     "data": {
      "text/html": [
       "<div>\n",
       "<style scoped>\n",
       "    .dataframe tbody tr th:only-of-type {\n",
       "        vertical-align: middle;\n",
       "    }\n",
       "\n",
       "    .dataframe tbody tr th {\n",
       "        vertical-align: top;\n",
       "    }\n",
       "\n",
       "    .dataframe thead th {\n",
       "        text-align: right;\n",
       "    }\n",
       "</style>\n",
       "<table border=\"1\" class=\"dataframe\">\n",
       "  <thead>\n",
       "    <tr style=\"text-align: right;\">\n",
       "      <th></th>\n",
       "      <th>INCIDENT_NUMBER</th>\n",
       "      <th>OCCURRED_ON_DATE</th>\n",
       "      <th>YEAR</th>\n",
       "      <th>MONTH</th>\n",
       "      <th>DAY_OF_WEEK</th>\n",
       "      <th>HOUR</th>\n",
       "      <th>type</th>\n",
       "      <th>Lat_imp</th>\n",
       "      <th>Long_imp</th>\n",
       "      <th>zip_predicted</th>\n",
       "      <th>home_value</th>\n",
       "      <th>rent_price</th>\n",
       "    </tr>\n",
       "  </thead>\n",
       "  <tbody>\n",
       "    <tr>\n",
       "      <th>3</th>\n",
       "      <td>I192078642</td>\n",
       "      <td>2019-09-29 05:50:00</td>\n",
       "      <td>2019</td>\n",
       "      <td>9</td>\n",
       "      <td>Sunday</td>\n",
       "      <td>5</td>\n",
       "      <td>3.0</td>\n",
       "      <td>42.332419</td>\n",
       "      <td>-71.075013</td>\n",
       "      <td>2118</td>\n",
       "      <td>1001.000000</td>\n",
       "      <td>3.632000</td>\n",
       "    </tr>\n",
       "    <tr>\n",
       "      <th>8</th>\n",
       "      <td>I192078636</td>\n",
       "      <td>2019-09-29 04:40:00</td>\n",
       "      <td>2019</td>\n",
       "      <td>9</td>\n",
       "      <td>Sunday</td>\n",
       "      <td>4</td>\n",
       "      <td>1.0</td>\n",
       "      <td>42.314630</td>\n",
       "      <td>-71.092615</td>\n",
       "      <td>2121</td>\n",
       "      <td>248.000000</td>\n",
       "      <td>1.836000</td>\n",
       "    </tr>\n",
       "    <tr>\n",
       "      <th>14</th>\n",
       "      <td>I192078623</td>\n",
       "      <td>2019-09-28 22:40:00</td>\n",
       "      <td>2019</td>\n",
       "      <td>9</td>\n",
       "      <td>Saturday</td>\n",
       "      <td>22</td>\n",
       "      <td>3.0</td>\n",
       "      <td>42.286065</td>\n",
       "      <td>-71.070010</td>\n",
       "      <td>2124</td>\n",
       "      <td>322.000000</td>\n",
       "      <td>1.780000</td>\n",
       "    </tr>\n",
       "    <tr>\n",
       "      <th>15</th>\n",
       "      <td>I192078622</td>\n",
       "      <td>2019-09-29 03:04:00</td>\n",
       "      <td>2019</td>\n",
       "      <td>9</td>\n",
       "      <td>Sunday</td>\n",
       "      <td>3</td>\n",
       "      <td>0.0</td>\n",
       "      <td>42.340070</td>\n",
       "      <td>-71.052794</td>\n",
       "      <td>2111</td>\n",
       "      <td>990.000000</td>\n",
       "      <td>3.808000</td>\n",
       "    </tr>\n",
       "    <tr>\n",
       "      <th>18</th>\n",
       "      <td>I192078615</td>\n",
       "      <td>2019-09-29 02:25:00</td>\n",
       "      <td>2019</td>\n",
       "      <td>9</td>\n",
       "      <td>Sunday</td>\n",
       "      <td>2</td>\n",
       "      <td>3.0</td>\n",
       "      <td>42.382589</td>\n",
       "      <td>-71.033420</td>\n",
       "      <td>2150</td>\n",
       "      <td>894.058824</td>\n",
       "      <td>3.036706</td>\n",
       "    </tr>\n",
       "  </tbody>\n",
       "</table>\n",
       "</div>"
      ],
      "text/plain": [
       "   INCIDENT_NUMBER     OCCURRED_ON_DATE  YEAR  MONTH DAY_OF_WEEK  HOUR  type    Lat_imp   Long_imp  zip_predicted   home_value  rent_price\n",
       "3       I192078642  2019-09-29 05:50:00  2019      9      Sunday     5   3.0  42.332419 -71.075013           2118  1001.000000    3.632000\n",
       "8       I192078636  2019-09-29 04:40:00  2019      9      Sunday     4   1.0  42.314630 -71.092615           2121   248.000000    1.836000\n",
       "14      I192078623  2019-09-28 22:40:00  2019      9    Saturday    22   3.0  42.286065 -71.070010           2124   322.000000    1.780000\n",
       "15      I192078622  2019-09-29 03:04:00  2019      9      Sunday     3   0.0  42.340070 -71.052794           2111   990.000000    3.808000\n",
       "18      I192078615  2019-09-29 02:25:00  2019      9      Sunday     2   3.0  42.382589 -71.033420           2150   894.058824    3.036706"
      ]
     },
     "execution_count": 188,
     "metadata": {},
     "output_type": "execute_result"
    }
   ],
   "source": [
    "crime_filtered.head()"
   ]
  },
  {
   "cell_type": "code",
   "execution_count": null,
   "metadata": {},
   "outputs": [],
   "source": []
  }
 ],
 "metadata": {
  "kernelspec": {
   "display_name": "Python 3",
   "language": "python",
   "name": "python3"
  },
  "language_info": {
   "codemirror_mode": {
    "name": "ipython",
    "version": 3
   },
   "file_extension": ".py",
   "mimetype": "text/x-python",
   "name": "python",
   "nbconvert_exporter": "python",
   "pygments_lexer": "ipython3",
   "version": "3.7.1"
  }
 },
 "nbformat": 4,
 "nbformat_minor": 2
}
